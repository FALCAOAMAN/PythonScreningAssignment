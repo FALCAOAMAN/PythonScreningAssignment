{
 "cells": [
  {
   "cell_type": "markdown",
   "metadata": {},
   "source": [
    "## Create a function in python to read the text file and replace specific content of the file."
   ]
  },
  {
   "cell_type": "code",
   "execution_count": 7,
   "metadata": {},
   "outputs": [],
   "source": [
    "def overwrite(filename):\n",
    "    import logging\n",
    "    \"\"\"This function will take  text file and overwrite some orignal file content\"\"\"\n",
    "    logging.basicConfig(filename=\"overwrite3.log\",level=logging.DEBUG,format=\"%(asctime)s %(levelname)s %(message)s\")\n",
    "    try:\n",
    "        logging.info(f\"trying to search the file {filename}\")\n",
    "        f=open(filename,'r')\n",
    "        a=f.read()\n",
    "        print(a)\n",
    "        f.seek(0)\n",
    "        replace_str=input(\"\\nPlease input a word that you need to replace from the above text: \")\n",
    "        new_str=input(\"Please input a new word: \")\n",
    "        logging.info(f\"Taking information from the user , the word to be replaced {replace_str},and the word to replace with {new_str} \")\n",
    "        \n",
    "        \n",
    "        lst=f.readlines()\n",
    "        new_lst=[]\n",
    "        for lines in lst:\n",
    "            new_lst.append(lines.replace(replace_str,new_str))\n",
    "        \n",
    "        f.close()\n",
    "        \n",
    "        f=open(filename,'w+')\n",
    "        f.write(\" \".join(new_lst))\n",
    "        f.seek(0)\n",
    "        logging.info(f\"The text file was overwritten successfully\")\n",
    "        \n",
    "        print(\"\\n===============================================================\")\n",
    "        print(\"\\nUpdated Text: \")\n",
    "        print(f.read())\n",
    "        \n",
    "        \n",
    "        \n",
    "    except Exception as e:\n",
    "        logging.error('An error has occured')\n",
    "        logging.exception(\"Exception has occured \"+str(e))\n",
    "        print(e)"
   ]
  },
  {
   "cell_type": "code",
   "execution_count": 8,
   "metadata": {},
   "outputs": [
    {
     "name": "stdout",
     "output_type": "stream",
     "text": [
      "The Norman Conquest (or replaced Conquest) was replaced 11th-century invasion and occupation of England by an army made up of thousands of Normans, Bretons, Flemish, and French troops, all led by replaced Duke of Normandy, later styled William replaced Conqueror.\n",
      "                 \n",
      "                 William's claim to replaced English throne derived from his familial relationship with replaced childless Anglo-Saxon king Edward replaced Confessor, who may have encouraged William's hopes for replaced throne. Edward died in January 1066 and was succeeded by his broreplacedr-in-law Harold Godwinson. The Norwegian king Harald Hardrada invaded norreplacedrn England in September 1066 and was victorious at replaced Battle of Fulford on 20 September, but Godwinson's army defeated and killed Hardrada at replaced Battle of Stamford Bridge on 25 September. Three days later on 28 September, William's invasion force of thousands of men and hundreds of ships landed at Pevensey in Sussex in soureplacedrn England. Harold marched south to oppose him, leaving a significant portion of his army in replaced north. Harold's army confronted William's invaders on 14 October at replaced Battle of Hastings. William's force defeated Harold, who was killed in replaced engagement, and William became king.\n",
      "                 \n",
      "                 Although William's main rivals were gone, he still faced rebellions over replaced following years and was not secure on replaced English throne until after 1072. The lands of replaced resisting English elite were confiscated; some of replaced elite fled into exile. To control his new kingdom, William granted lands to his followers and built castles commanding military strongpoints throughout replaced land. The Domesday Book, a manuscript record of replaced \"Great Survey\" of much of England and parts of Wales, was completed by 1086. Oreplacedr effects of replaced conquest included replaced court and government, replaced introduction of replaced Norman language as replaced language of replaced elites, and changes in replaced composition of replaced upper classes, as William enfeoffed lands to be held directly from replaced king. More gradual changes affected replaced agricultural classes and village life: replaced main change appears to have been replaced formal elimination of slavery, which may or may not have been linked to replaced invasion. There was little alteration in replaced structure of government, as replaced new Norman administrators took over many of replaced forms of Anglo-Saxon government.t.\n",
      "\n",
      "Please input a word that you need to replace from the above text: English\n",
      "Please input a new word: Hindi\n",
      "\n",
      "===============================================================\n",
      "\n",
      "Updated Text: \n",
      "The Norman Conquest (or replaced Conquest) was replaced 11th-century invasion and occupation of England by an army made up of thousands of Normans, Bretons, Flemish, and French troops, all led by replaced Duke of Normandy, later styled William replaced Conqueror.\n",
      "                  \n",
      "                  William's claim to replaced Hindi throne derived from his familial relationship with replaced childless Anglo-Saxon king Edward replaced Confessor, who may have encouraged William's hopes for replaced throne. Edward died in January 1066 and was succeeded by his broreplacedr-in-law Harold Godwinson. The Norwegian king Harald Hardrada invaded norreplacedrn England in September 1066 and was victorious at replaced Battle of Fulford on 20 September, but Godwinson's army defeated and killed Hardrada at replaced Battle of Stamford Bridge on 25 September. Three days later on 28 September, William's invasion force of thousands of men and hundreds of ships landed at Pevensey in Sussex in soureplacedrn England. Harold marched south to oppose him, leaving a significant portion of his army in replaced north. Harold's army confronted William's invaders on 14 October at replaced Battle of Hastings. William's force defeated Harold, who was killed in replaced engagement, and William became king.\n",
      "                  \n",
      "                  Although William's main rivals were gone, he still faced rebellions over replaced following years and was not secure on replaced Hindi throne until after 1072. The lands of replaced resisting Hindi elite were confiscated; some of replaced elite fled into exile. To control his new kingdom, William granted lands to his followers and built castles commanding military strongpoints throughout replaced land. The Domesday Book, a manuscript record of replaced \"Great Survey\" of much of England and parts of Wales, was completed by 1086. Oreplacedr effects of replaced conquest included replaced court and government, replaced introduction of replaced Norman language as replaced language of replaced elites, and changes in replaced composition of replaced upper classes, as William enfeoffed lands to be held directly from replaced king. More gradual changes affected replaced agricultural classes and village life: replaced main change appears to have been replaced formal elimination of slavery, which may or may not have been linked to replaced invasion. There was little alteration in replaced structure of government, as replaced new Norman administrators took over many of replaced forms of Anglo-Saxon government.t.\n"
     ]
    }
   ],
   "source": [
    "overwrite('check.txt')"
   ]
  },
  {
   "cell_type": "code",
   "execution_count": null,
   "metadata": {},
   "outputs": [],
   "source": []
  },
  {
   "cell_type": "code",
   "execution_count": null,
   "metadata": {},
   "outputs": [],
   "source": []
  }
 ],
 "metadata": {
  "kernelspec": {
   "display_name": "Python 3",
   "language": "python",
   "name": "python3"
  },
  "language_info": {
   "codemirror_mode": {
    "name": "ipython",
    "version": 3
   },
   "file_extension": ".py",
   "mimetype": "text/x-python",
   "name": "python",
   "nbconvert_exporter": "python",
   "pygments_lexer": "ipython3",
   "version": "3.7.6"
  }
 },
 "nbformat": 4,
 "nbformat_minor": 4
}
