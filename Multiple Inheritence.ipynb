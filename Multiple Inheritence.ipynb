{
 "cells": [
  {
   "cell_type": "code",
   "execution_count": 1,
   "metadata": {},
   "outputs": [],
   "source": [
    "class length:\n",
    "    l = 0    \n",
    "    def length(self):  \n",
    "        return self.l    \n",
    "class breadth:\n",
    "    b = 0    \n",
    "    def breadth(self):\n",
    "        return self.b     \n",
    "class rect_area(length, breadth):\n",
    "    def rect_area(self):\n",
    "        print(\"The area of rectangle with length \"+str(self.l)+\" units and breadth \"+ \n",
    "              str(self.b)+\" units is \"+str(self.l * self.b)+\" sq. units.\")"
   ]
  },
  {
   "cell_type": "code",
   "execution_count": 5,
   "metadata": {},
   "outputs": [
    {
     "name": "stdout",
     "output_type": "stream",
     "text": [
      "Enter the required length for rectangle: 1\n",
      "Enter the required breadth for rectangle: 2\n",
      "The area of rectangle with length 1.0 units and breadth 2.0 units is 2.0 sq. units.\n"
     ]
    }
   ],
   "source": [
    "o = rect_area()\n",
    "try:\n",
    "    o.l = float(input(\"Enter the required length for rectangle: \"))\n",
    "    o.b = float(input(\"Enter the required breadth for rectangle: \"))\n",
    "    o.rect_area()\n",
    "except Exception as e:\n",
    "    print(e)"
   ]
  }
 ],
 "metadata": {
  "kernelspec": {
   "display_name": "Python 3",
   "language": "python",
   "name": "python3"
  },
  "language_info": {
   "codemirror_mode": {
    "name": "ipython",
    "version": 3
   },
   "file_extension": ".py",
   "mimetype": "text/x-python",
   "name": "python",
   "nbconvert_exporter": "python",
   "pygments_lexer": "ipython3",
   "version": "3.7.6"
  }
 },
 "nbformat": 4,
 "nbformat_minor": 4
}
